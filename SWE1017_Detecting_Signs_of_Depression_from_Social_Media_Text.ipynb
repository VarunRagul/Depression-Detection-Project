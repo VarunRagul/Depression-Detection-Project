{
  "cells": [
    {
      "cell_type": "markdown",
      "id": "8ddf39b9",
      "metadata": {
        "papermill": {
          "duration": 0.045696,
          "end_time": "2021-11-13T16:30:04.304831",
          "exception": false,
          "start_time": "2021-11-13T16:30:04.259135",
          "status": "completed"
        },
        "tags": [],
        "id": "8ddf39b9"
      },
      "source": [
        "#**Detecting Signs of Depression from Social Media Text**\n",
        "\n",
        "##19MIA1085 -- Varun Ragul R\n",
        "  \n",
        "##19MIA1042 -- Adithya G"
      ]
    },
    {
      "cell_type": "code",
      "execution_count": 67,
      "id": "39406a77",
      "metadata": {
        "_cell_guid": "b1076dfc-b9ad-4769-8c92-a6c4dae69d19",
        "_uuid": "8f2839f25d086af736a60e9eeb907d3b93b6e0e5",
        "execution": {
          "iopub.execute_input": "2021-11-13T16:30:04.487990Z",
          "iopub.status.busy": "2021-11-13T16:30:04.486194Z",
          "iopub.status.idle": "2021-11-13T16:30:04.511749Z",
          "shell.execute_reply": "2021-11-13T16:30:04.510368Z",
          "shell.execute_reply.started": "2021-11-13T16:17:58.996356Z"
        },
        "papermill": {
          "duration": 0.074392,
          "end_time": "2021-11-13T16:30:04.512054",
          "exception": false,
          "start_time": "2021-11-13T16:30:04.437662",
          "status": "completed"
        },
        "tags": [],
        "id": "39406a77"
      },
      "outputs": [],
      "source": [
        "import numpy as np \n",
        "import pandas as pd"
      ]
    },
    {
      "cell_type": "code",
      "source": [
        "import spacy.cli\n",
        "spacy.cli.download(\"en_core_web_lg\")"
      ],
      "metadata": {
        "colab": {
          "base_uri": "https://localhost:8080/"
        },
        "id": "JnV8yLWAgCGB",
        "outputId": "0ede3628-1131-4c0a-af82-207d75afc243"
      },
      "id": "JnV8yLWAgCGB",
      "execution_count": 68,
      "outputs": [
        {
          "output_type": "stream",
          "name": "stdout",
          "text": [
            "\u001b[38;5;2m✔ Download and installation successful\u001b[0m\n",
            "You can now load the model via spacy.load('en_core_web_lg')\n"
          ]
        }
      ]
    },
    {
      "cell_type": "code",
      "execution_count": 69,
      "id": "e5bc4de9",
      "metadata": {
        "execution": {
          "iopub.execute_input": "2021-11-13T16:30:04.606516Z",
          "iopub.status.busy": "2021-11-13T16:30:04.605523Z",
          "iopub.status.idle": "2021-11-13T16:30:20.864453Z",
          "shell.execute_reply": "2021-11-13T16:30:20.865046Z",
          "shell.execute_reply.started": "2021-11-13T16:17:59.037691Z"
        },
        "papermill": {
          "duration": 16.306798,
          "end_time": "2021-11-13T16:30:20.865242",
          "exception": false,
          "start_time": "2021-11-13T16:30:04.558444",
          "status": "completed"
        },
        "tags": [],
        "id": "e5bc4de9"
      },
      "outputs": [],
      "source": [
        "import re\n",
        "import string\n",
        "import pandas as pd\n",
        "import matplotlib.pyplot as plt\n",
        "import seaborn as sns\n",
        "import pickle\n",
        "import spacy\n",
        "nlp = spacy.load(\"en_core_web_lg\")\n",
        "from sklearn.base import TransformerMixin, BaseEstimator\n",
        "from sklearn.model_selection import train_test_split\n",
        "from sklearn.feature_extraction.text import TfidfVectorizer\n",
        "from sklearn.calibration import CalibratedClassifierCV\n",
        "from imblearn.under_sampling import InstanceHardnessThreshold\n",
        "from sklearn.svm import LinearSVC\n",
        "from sklearn.preprocessing import MinMaxScaler\n",
        "from sklearn.feature_selection import SelectFromModel\n",
        "from sklearn.linear_model import LogisticRegression, SGDClassifier\n",
        "from sklearn.ensemble import VotingClassifier\n",
        "from sklearn.naive_bayes import MultinomialNB, ComplementNB\n",
        "from sklearn.svm import LinearSVC\n",
        "from sklearn.model_selection import cross_val_score\n",
        "from sklearn.metrics import classification_report\n",
        "from sklearn.model_selection import train_test_split\n",
        "from sklearn.metrics import confusion_matrix\n",
        "from sklearn.utils.multiclass import unique_labels\n",
        "from sklearn.feature_selection import SelectFromModel\n",
        "from imblearn.pipeline import Pipeline"
      ]
    },
    {
      "cell_type": "code",
      "source": [
        "import warnings\n",
        "warnings.filterwarnings(\"ignore\")"
      ],
      "metadata": {
        "id": "PUVpVbWxgcCV"
      },
      "id": "PUVpVbWxgcCV",
      "execution_count": 70,
      "outputs": []
    },
    {
      "cell_type": "code",
      "source": [
        "from google.colab import drive\n",
        "drive.mount('/content/drive')"
      ],
      "metadata": {
        "colab": {
          "base_uri": "https://localhost:8080/"
        },
        "id": "yCQkoasvd9MA",
        "outputId": "8f7eb61a-edde-4806-801c-3c1a63b052ba"
      },
      "id": "yCQkoasvd9MA",
      "execution_count": 71,
      "outputs": [
        {
          "output_type": "stream",
          "name": "stdout",
          "text": [
            "Drive already mounted at /content/drive; to attempt to forcibly remount, call drive.mount(\"/content/drive\", force_remount=True).\n"
          ]
        }
      ]
    },
    {
      "cell_type": "code",
      "execution_count": 72,
      "id": "db6dcfd8",
      "metadata": {
        "execution": {
          "iopub.execute_input": "2021-11-13T16:30:21.049711Z",
          "iopub.status.busy": "2021-11-13T16:30:21.048666Z",
          "iopub.status.idle": "2021-11-13T16:30:25.721826Z",
          "shell.execute_reply": "2021-11-13T16:30:25.722487Z",
          "shell.execute_reply.started": "2021-11-13T16:18:14.852220Z"
        },
        "papermill": {
          "duration": 4.72281,
          "end_time": "2021-11-13T16:30:25.722678",
          "exception": false,
          "start_time": "2021-11-13T16:30:20.999868",
          "status": "completed"
        },
        "tags": [],
        "colab": {
          "base_uri": "https://localhost:8080/",
          "height": 206
        },
        "id": "db6dcfd8",
        "outputId": "f9e8915d-933b-4fa5-96e3-7d169debf586"
      },
      "outputs": [
        {
          "output_type": "execute_result",
          "data": {
            "text/plain": [
              "   Unnamed: 0                                               text        class\n",
              "0           2  Ex Wife Threatening SuicideRecently I left my ...      suicide\n",
              "1           3  Am I weird I don't get affected by compliments...  non-suicide\n",
              "2           4  Finally 2020 is almost over... So I can never ...  non-suicide\n",
              "3           8          i need helpjust help me im crying so hard      suicide\n",
              "4           9  I’m so lostHello, my name is Adam (16) and I’v...      suicide"
            ],
            "text/html": [
              "\n",
              "  <div id=\"df-1c1e2e79-d8a0-4af2-bb1a-01ef8052a1e7\">\n",
              "    <div class=\"colab-df-container\">\n",
              "      <div>\n",
              "<style scoped>\n",
              "    .dataframe tbody tr th:only-of-type {\n",
              "        vertical-align: middle;\n",
              "    }\n",
              "\n",
              "    .dataframe tbody tr th {\n",
              "        vertical-align: top;\n",
              "    }\n",
              "\n",
              "    .dataframe thead th {\n",
              "        text-align: right;\n",
              "    }\n",
              "</style>\n",
              "<table border=\"1\" class=\"dataframe\">\n",
              "  <thead>\n",
              "    <tr style=\"text-align: right;\">\n",
              "      <th></th>\n",
              "      <th>Unnamed: 0</th>\n",
              "      <th>text</th>\n",
              "      <th>class</th>\n",
              "    </tr>\n",
              "  </thead>\n",
              "  <tbody>\n",
              "    <tr>\n",
              "      <th>0</th>\n",
              "      <td>2</td>\n",
              "      <td>Ex Wife Threatening SuicideRecently I left my ...</td>\n",
              "      <td>suicide</td>\n",
              "    </tr>\n",
              "    <tr>\n",
              "      <th>1</th>\n",
              "      <td>3</td>\n",
              "      <td>Am I weird I don't get affected by compliments...</td>\n",
              "      <td>non-suicide</td>\n",
              "    </tr>\n",
              "    <tr>\n",
              "      <th>2</th>\n",
              "      <td>4</td>\n",
              "      <td>Finally 2020 is almost over... So I can never ...</td>\n",
              "      <td>non-suicide</td>\n",
              "    </tr>\n",
              "    <tr>\n",
              "      <th>3</th>\n",
              "      <td>8</td>\n",
              "      <td>i need helpjust help me im crying so hard</td>\n",
              "      <td>suicide</td>\n",
              "    </tr>\n",
              "    <tr>\n",
              "      <th>4</th>\n",
              "      <td>9</td>\n",
              "      <td>I’m so lostHello, my name is Adam (16) and I’v...</td>\n",
              "      <td>suicide</td>\n",
              "    </tr>\n",
              "  </tbody>\n",
              "</table>\n",
              "</div>\n",
              "      <button class=\"colab-df-convert\" onclick=\"convertToInteractive('df-1c1e2e79-d8a0-4af2-bb1a-01ef8052a1e7')\"\n",
              "              title=\"Convert this dataframe to an interactive table.\"\n",
              "              style=\"display:none;\">\n",
              "        \n",
              "  <svg xmlns=\"http://www.w3.org/2000/svg\" height=\"24px\"viewBox=\"0 0 24 24\"\n",
              "       width=\"24px\">\n",
              "    <path d=\"M0 0h24v24H0V0z\" fill=\"none\"/>\n",
              "    <path d=\"M18.56 5.44l.94 2.06.94-2.06 2.06-.94-2.06-.94-.94-2.06-.94 2.06-2.06.94zm-11 1L8.5 8.5l.94-2.06 2.06-.94-2.06-.94L8.5 2.5l-.94 2.06-2.06.94zm10 10l.94 2.06.94-2.06 2.06-.94-2.06-.94-.94-2.06-.94 2.06-2.06.94z\"/><path d=\"M17.41 7.96l-1.37-1.37c-.4-.4-.92-.59-1.43-.59-.52 0-1.04.2-1.43.59L10.3 9.45l-7.72 7.72c-.78.78-.78 2.05 0 2.83L4 21.41c.39.39.9.59 1.41.59.51 0 1.02-.2 1.41-.59l7.78-7.78 2.81-2.81c.8-.78.8-2.07 0-2.86zM5.41 20L4 18.59l7.72-7.72 1.47 1.35L5.41 20z\"/>\n",
              "  </svg>\n",
              "      </button>\n",
              "      \n",
              "  <style>\n",
              "    .colab-df-container {\n",
              "      display:flex;\n",
              "      flex-wrap:wrap;\n",
              "      gap: 12px;\n",
              "    }\n",
              "\n",
              "    .colab-df-convert {\n",
              "      background-color: #E8F0FE;\n",
              "      border: none;\n",
              "      border-radius: 50%;\n",
              "      cursor: pointer;\n",
              "      display: none;\n",
              "      fill: #1967D2;\n",
              "      height: 32px;\n",
              "      padding: 0 0 0 0;\n",
              "      width: 32px;\n",
              "    }\n",
              "\n",
              "    .colab-df-convert:hover {\n",
              "      background-color: #E2EBFA;\n",
              "      box-shadow: 0px 1px 2px rgba(60, 64, 67, 0.3), 0px 1px 3px 1px rgba(60, 64, 67, 0.15);\n",
              "      fill: #174EA6;\n",
              "    }\n",
              "\n",
              "    [theme=dark] .colab-df-convert {\n",
              "      background-color: #3B4455;\n",
              "      fill: #D2E3FC;\n",
              "    }\n",
              "\n",
              "    [theme=dark] .colab-df-convert:hover {\n",
              "      background-color: #434B5C;\n",
              "      box-shadow: 0px 1px 3px 1px rgba(0, 0, 0, 0.15);\n",
              "      filter: drop-shadow(0px 1px 2px rgba(0, 0, 0, 0.3));\n",
              "      fill: #FFFFFF;\n",
              "    }\n",
              "  </style>\n",
              "\n",
              "      <script>\n",
              "        const buttonEl =\n",
              "          document.querySelector('#df-1c1e2e79-d8a0-4af2-bb1a-01ef8052a1e7 button.colab-df-convert');\n",
              "        buttonEl.style.display =\n",
              "          google.colab.kernel.accessAllowed ? 'block' : 'none';\n",
              "\n",
              "        async function convertToInteractive(key) {\n",
              "          const element = document.querySelector('#df-1c1e2e79-d8a0-4af2-bb1a-01ef8052a1e7');\n",
              "          const dataTable =\n",
              "            await google.colab.kernel.invokeFunction('convertToInteractive',\n",
              "                                                     [key], {});\n",
              "          if (!dataTable) return;\n",
              "\n",
              "          const docLinkHtml = 'Like what you see? Visit the ' +\n",
              "            '<a target=\"_blank\" href=https://colab.research.google.com/notebooks/data_table.ipynb>data table notebook</a>'\n",
              "            + ' to learn more about interactive tables.';\n",
              "          element.innerHTML = '';\n",
              "          dataTable['output_type'] = 'display_data';\n",
              "          await google.colab.output.renderOutput(dataTable, element);\n",
              "          const docLink = document.createElement('div');\n",
              "          docLink.innerHTML = docLinkHtml;\n",
              "          element.appendChild(docLink);\n",
              "        }\n",
              "      </script>\n",
              "    </div>\n",
              "  </div>\n",
              "  "
            ]
          },
          "metadata": {},
          "execution_count": 72
        }
      ],
      "source": [
        "data=pd.read_csv(\"/content/drive/MyDrive/Depression_Detection.csv\")\n",
        "data.head()"
      ]
    },
    {
      "cell_type": "code",
      "source": [
        "data['class']=data['class'].str.replace('non-suicide','not depressed')\n",
        "data['class']=data['class'].str.replace('suicide','severely depressed')"
      ],
      "metadata": {
        "id": "aoqmk45tljeL"
      },
      "id": "aoqmk45tljeL",
      "execution_count": 73,
      "outputs": []
    },
    {
      "cell_type": "code",
      "source": [
        "data.head()"
      ],
      "metadata": {
        "colab": {
          "base_uri": "https://localhost:8080/",
          "height": 206
        },
        "id": "IGsG2QsMljHS",
        "outputId": "2a8bac8d-a9fe-4af3-b000-ada83e7f6e5a"
      },
      "id": "IGsG2QsMljHS",
      "execution_count": 74,
      "outputs": [
        {
          "output_type": "execute_result",
          "data": {
            "text/plain": [
              "   Unnamed: 0                                               text  \\\n",
              "0           2  Ex Wife Threatening SuicideRecently I left my ...   \n",
              "1           3  Am I weird I don't get affected by compliments...   \n",
              "2           4  Finally 2020 is almost over... So I can never ...   \n",
              "3           8          i need helpjust help me im crying so hard   \n",
              "4           9  I’m so lostHello, my name is Adam (16) and I’v...   \n",
              "\n",
              "                class  \n",
              "0  severely depressed  \n",
              "1       not depressed  \n",
              "2       not depressed  \n",
              "3  severely depressed  \n",
              "4  severely depressed  "
            ],
            "text/html": [
              "\n",
              "  <div id=\"df-f0312a94-1ae5-4904-afd2-aaf732ab198f\">\n",
              "    <div class=\"colab-df-container\">\n",
              "      <div>\n",
              "<style scoped>\n",
              "    .dataframe tbody tr th:only-of-type {\n",
              "        vertical-align: middle;\n",
              "    }\n",
              "\n",
              "    .dataframe tbody tr th {\n",
              "        vertical-align: top;\n",
              "    }\n",
              "\n",
              "    .dataframe thead th {\n",
              "        text-align: right;\n",
              "    }\n",
              "</style>\n",
              "<table border=\"1\" class=\"dataframe\">\n",
              "  <thead>\n",
              "    <tr style=\"text-align: right;\">\n",
              "      <th></th>\n",
              "      <th>Unnamed: 0</th>\n",
              "      <th>text</th>\n",
              "      <th>class</th>\n",
              "    </tr>\n",
              "  </thead>\n",
              "  <tbody>\n",
              "    <tr>\n",
              "      <th>0</th>\n",
              "      <td>2</td>\n",
              "      <td>Ex Wife Threatening SuicideRecently I left my ...</td>\n",
              "      <td>severely depressed</td>\n",
              "    </tr>\n",
              "    <tr>\n",
              "      <th>1</th>\n",
              "      <td>3</td>\n",
              "      <td>Am I weird I don't get affected by compliments...</td>\n",
              "      <td>not depressed</td>\n",
              "    </tr>\n",
              "    <tr>\n",
              "      <th>2</th>\n",
              "      <td>4</td>\n",
              "      <td>Finally 2020 is almost over... So I can never ...</td>\n",
              "      <td>not depressed</td>\n",
              "    </tr>\n",
              "    <tr>\n",
              "      <th>3</th>\n",
              "      <td>8</td>\n",
              "      <td>i need helpjust help me im crying so hard</td>\n",
              "      <td>severely depressed</td>\n",
              "    </tr>\n",
              "    <tr>\n",
              "      <th>4</th>\n",
              "      <td>9</td>\n",
              "      <td>I’m so lostHello, my name is Adam (16) and I’v...</td>\n",
              "      <td>severely depressed</td>\n",
              "    </tr>\n",
              "  </tbody>\n",
              "</table>\n",
              "</div>\n",
              "      <button class=\"colab-df-convert\" onclick=\"convertToInteractive('df-f0312a94-1ae5-4904-afd2-aaf732ab198f')\"\n",
              "              title=\"Convert this dataframe to an interactive table.\"\n",
              "              style=\"display:none;\">\n",
              "        \n",
              "  <svg xmlns=\"http://www.w3.org/2000/svg\" height=\"24px\"viewBox=\"0 0 24 24\"\n",
              "       width=\"24px\">\n",
              "    <path d=\"M0 0h24v24H0V0z\" fill=\"none\"/>\n",
              "    <path d=\"M18.56 5.44l.94 2.06.94-2.06 2.06-.94-2.06-.94-.94-2.06-.94 2.06-2.06.94zm-11 1L8.5 8.5l.94-2.06 2.06-.94-2.06-.94L8.5 2.5l-.94 2.06-2.06.94zm10 10l.94 2.06.94-2.06 2.06-.94-2.06-.94-.94-2.06-.94 2.06-2.06.94z\"/><path d=\"M17.41 7.96l-1.37-1.37c-.4-.4-.92-.59-1.43-.59-.52 0-1.04.2-1.43.59L10.3 9.45l-7.72 7.72c-.78.78-.78 2.05 0 2.83L4 21.41c.39.39.9.59 1.41.59.51 0 1.02-.2 1.41-.59l7.78-7.78 2.81-2.81c.8-.78.8-2.07 0-2.86zM5.41 20L4 18.59l7.72-7.72 1.47 1.35L5.41 20z\"/>\n",
              "  </svg>\n",
              "      </button>\n",
              "      \n",
              "  <style>\n",
              "    .colab-df-container {\n",
              "      display:flex;\n",
              "      flex-wrap:wrap;\n",
              "      gap: 12px;\n",
              "    }\n",
              "\n",
              "    .colab-df-convert {\n",
              "      background-color: #E8F0FE;\n",
              "      border: none;\n",
              "      border-radius: 50%;\n",
              "      cursor: pointer;\n",
              "      display: none;\n",
              "      fill: #1967D2;\n",
              "      height: 32px;\n",
              "      padding: 0 0 0 0;\n",
              "      width: 32px;\n",
              "    }\n",
              "\n",
              "    .colab-df-convert:hover {\n",
              "      background-color: #E2EBFA;\n",
              "      box-shadow: 0px 1px 2px rgba(60, 64, 67, 0.3), 0px 1px 3px 1px rgba(60, 64, 67, 0.15);\n",
              "      fill: #174EA6;\n",
              "    }\n",
              "\n",
              "    [theme=dark] .colab-df-convert {\n",
              "      background-color: #3B4455;\n",
              "      fill: #D2E3FC;\n",
              "    }\n",
              "\n",
              "    [theme=dark] .colab-df-convert:hover {\n",
              "      background-color: #434B5C;\n",
              "      box-shadow: 0px 1px 3px 1px rgba(0, 0, 0, 0.15);\n",
              "      filter: drop-shadow(0px 1px 2px rgba(0, 0, 0, 0.3));\n",
              "      fill: #FFFFFF;\n",
              "    }\n",
              "  </style>\n",
              "\n",
              "      <script>\n",
              "        const buttonEl =\n",
              "          document.querySelector('#df-f0312a94-1ae5-4904-afd2-aaf732ab198f button.colab-df-convert');\n",
              "        buttonEl.style.display =\n",
              "          google.colab.kernel.accessAllowed ? 'block' : 'none';\n",
              "\n",
              "        async function convertToInteractive(key) {\n",
              "          const element = document.querySelector('#df-f0312a94-1ae5-4904-afd2-aaf732ab198f');\n",
              "          const dataTable =\n",
              "            await google.colab.kernel.invokeFunction('convertToInteractive',\n",
              "                                                     [key], {});\n",
              "          if (!dataTable) return;\n",
              "\n",
              "          const docLinkHtml = 'Like what you see? Visit the ' +\n",
              "            '<a target=\"_blank\" href=https://colab.research.google.com/notebooks/data_table.ipynb>data table notebook</a>'\n",
              "            + ' to learn more about interactive tables.';\n",
              "          element.innerHTML = '';\n",
              "          dataTable['output_type'] = 'display_data';\n",
              "          await google.colab.output.renderOutput(dataTable, element);\n",
              "          const docLink = document.createElement('div');\n",
              "          docLink.innerHTML = docLinkHtml;\n",
              "          element.appendChild(docLink);\n",
              "        }\n",
              "      </script>\n",
              "    </div>\n",
              "  </div>\n",
              "  "
            ]
          },
          "metadata": {},
          "execution_count": 74
        }
      ]
    },
    {
      "cell_type": "code",
      "execution_count": 75,
      "id": "e47dfdeb",
      "metadata": {
        "execution": {
          "iopub.execute_input": "2021-11-13T16:30:25.878383Z",
          "iopub.status.busy": "2021-11-13T16:30:25.877382Z",
          "iopub.status.idle": "2021-11-13T16:30:25.883798Z",
          "shell.execute_reply": "2021-11-13T16:30:25.883131Z",
          "shell.execute_reply.started": "2021-11-13T16:18:19.235848Z"
        },
        "papermill": {
          "duration": 0.054365,
          "end_time": "2021-11-13T16:30:25.883935",
          "exception": false,
          "start_time": "2021-11-13T16:30:25.829570",
          "status": "completed"
        },
        "tags": [],
        "colab": {
          "base_uri": "https://localhost:8080/"
        },
        "id": "e47dfdeb",
        "outputId": "82106f70-6ad3-4668-e564-9f955b9ffd9a"
      },
      "outputs": [
        {
          "output_type": "execute_result",
          "data": {
            "text/plain": [
              "(232074, 3)"
            ]
          },
          "metadata": {},
          "execution_count": 75
        }
      ],
      "source": [
        "data.shape"
      ]
    },
    {
      "cell_type": "code",
      "execution_count": 76,
      "id": "d34d9716",
      "metadata": {
        "execution": {
          "iopub.execute_input": "2021-11-13T16:30:25.981975Z",
          "iopub.status.busy": "2021-11-13T16:30:25.980964Z",
          "iopub.status.idle": "2021-11-13T16:30:26.002943Z",
          "shell.execute_reply": "2021-11-13T16:30:26.002235Z",
          "shell.execute_reply.started": "2021-11-13T16:18:19.242756Z"
        },
        "papermill": {
          "duration": 0.073644,
          "end_time": "2021-11-13T16:30:26.003105",
          "exception": false,
          "start_time": "2021-11-13T16:30:25.929461",
          "status": "completed"
        },
        "tags": [],
        "id": "d34d9716"
      },
      "outputs": [],
      "source": [
        "data_split=np.array_split(data,20)\n",
        "df=data_split[0].copy()\n",
        "df2=data_split[1].copy()\n",
        "df3=data_split[2]\n",
        "df4=data_split[3]\n",
        "df5=data_split[4]\n",
        "df6=data_split[5]"
      ]
    },
    {
      "cell_type": "code",
      "execution_count": 77,
      "id": "f5e82635",
      "metadata": {
        "execution": {
          "iopub.execute_input": "2021-11-13T16:30:26.113681Z",
          "iopub.status.busy": "2021-11-13T16:30:26.106254Z",
          "iopub.status.idle": "2021-11-13T16:30:26.116093Z",
          "shell.execute_reply": "2021-11-13T16:30:26.115105Z",
          "shell.execute_reply.started": "2021-11-13T16:18:19.279434Z"
        },
        "papermill": {
          "duration": 0.067062,
          "end_time": "2021-11-13T16:30:26.116339",
          "exception": false,
          "start_time": "2021-11-13T16:30:26.049277",
          "status": "completed"
        },
        "tags": [],
        "id": "f5e82635"
      },
      "outputs": [],
      "source": [
        "df=df.rename(columns={\"class\":\"target\"})"
      ]
    },
    {
      "cell_type": "code",
      "execution_count": 78,
      "id": "b9d41fe1",
      "metadata": {
        "execution": {
          "iopub.execute_input": "2021-11-13T16:30:26.235963Z",
          "iopub.status.busy": "2021-11-13T16:30:26.234687Z",
          "iopub.status.idle": "2021-11-13T16:30:26.238170Z",
          "shell.execute_reply": "2021-11-13T16:30:26.238642Z",
          "shell.execute_reply.started": "2021-11-13T16:18:19.290249Z"
        },
        "papermill": {
          "duration": 0.064285,
          "end_time": "2021-11-13T16:30:26.238814",
          "exception": false,
          "start_time": "2021-11-13T16:30:26.174529",
          "status": "completed"
        },
        "tags": [],
        "colab": {
          "base_uri": "https://localhost:8080/",
          "height": 206
        },
        "id": "b9d41fe1",
        "outputId": "00d4fb4d-3c9d-456b-bdf6-fd7348f98ca7"
      },
      "outputs": [
        {
          "output_type": "execute_result",
          "data": {
            "text/plain": [
              "   Unnamed: 0                                               text  \\\n",
              "0           2  Ex Wife Threatening SuicideRecently I left my ...   \n",
              "1           3  Am I weird I don't get affected by compliments...   \n",
              "2           4  Finally 2020 is almost over... So I can never ...   \n",
              "3           8          i need helpjust help me im crying so hard   \n",
              "4           9  I’m so lostHello, my name is Adam (16) and I’v...   \n",
              "\n",
              "               target  \n",
              "0  severely depressed  \n",
              "1       not depressed  \n",
              "2       not depressed  \n",
              "3  severely depressed  \n",
              "4  severely depressed  "
            ],
            "text/html": [
              "\n",
              "  <div id=\"df-8c9d41e0-ce9a-4c23-828c-724e75cb3ddb\">\n",
              "    <div class=\"colab-df-container\">\n",
              "      <div>\n",
              "<style scoped>\n",
              "    .dataframe tbody tr th:only-of-type {\n",
              "        vertical-align: middle;\n",
              "    }\n",
              "\n",
              "    .dataframe tbody tr th {\n",
              "        vertical-align: top;\n",
              "    }\n",
              "\n",
              "    .dataframe thead th {\n",
              "        text-align: right;\n",
              "    }\n",
              "</style>\n",
              "<table border=\"1\" class=\"dataframe\">\n",
              "  <thead>\n",
              "    <tr style=\"text-align: right;\">\n",
              "      <th></th>\n",
              "      <th>Unnamed: 0</th>\n",
              "      <th>text</th>\n",
              "      <th>target</th>\n",
              "    </tr>\n",
              "  </thead>\n",
              "  <tbody>\n",
              "    <tr>\n",
              "      <th>0</th>\n",
              "      <td>2</td>\n",
              "      <td>Ex Wife Threatening SuicideRecently I left my ...</td>\n",
              "      <td>severely depressed</td>\n",
              "    </tr>\n",
              "    <tr>\n",
              "      <th>1</th>\n",
              "      <td>3</td>\n",
              "      <td>Am I weird I don't get affected by compliments...</td>\n",
              "      <td>not depressed</td>\n",
              "    </tr>\n",
              "    <tr>\n",
              "      <th>2</th>\n",
              "      <td>4</td>\n",
              "      <td>Finally 2020 is almost over... So I can never ...</td>\n",
              "      <td>not depressed</td>\n",
              "    </tr>\n",
              "    <tr>\n",
              "      <th>3</th>\n",
              "      <td>8</td>\n",
              "      <td>i need helpjust help me im crying so hard</td>\n",
              "      <td>severely depressed</td>\n",
              "    </tr>\n",
              "    <tr>\n",
              "      <th>4</th>\n",
              "      <td>9</td>\n",
              "      <td>I’m so lostHello, my name is Adam (16) and I’v...</td>\n",
              "      <td>severely depressed</td>\n",
              "    </tr>\n",
              "  </tbody>\n",
              "</table>\n",
              "</div>\n",
              "      <button class=\"colab-df-convert\" onclick=\"convertToInteractive('df-8c9d41e0-ce9a-4c23-828c-724e75cb3ddb')\"\n",
              "              title=\"Convert this dataframe to an interactive table.\"\n",
              "              style=\"display:none;\">\n",
              "        \n",
              "  <svg xmlns=\"http://www.w3.org/2000/svg\" height=\"24px\"viewBox=\"0 0 24 24\"\n",
              "       width=\"24px\">\n",
              "    <path d=\"M0 0h24v24H0V0z\" fill=\"none\"/>\n",
              "    <path d=\"M18.56 5.44l.94 2.06.94-2.06 2.06-.94-2.06-.94-.94-2.06-.94 2.06-2.06.94zm-11 1L8.5 8.5l.94-2.06 2.06-.94-2.06-.94L8.5 2.5l-.94 2.06-2.06.94zm10 10l.94 2.06.94-2.06 2.06-.94-2.06-.94-.94-2.06-.94 2.06-2.06.94z\"/><path d=\"M17.41 7.96l-1.37-1.37c-.4-.4-.92-.59-1.43-.59-.52 0-1.04.2-1.43.59L10.3 9.45l-7.72 7.72c-.78.78-.78 2.05 0 2.83L4 21.41c.39.39.9.59 1.41.59.51 0 1.02-.2 1.41-.59l7.78-7.78 2.81-2.81c.8-.78.8-2.07 0-2.86zM5.41 20L4 18.59l7.72-7.72 1.47 1.35L5.41 20z\"/>\n",
              "  </svg>\n",
              "      </button>\n",
              "      \n",
              "  <style>\n",
              "    .colab-df-container {\n",
              "      display:flex;\n",
              "      flex-wrap:wrap;\n",
              "      gap: 12px;\n",
              "    }\n",
              "\n",
              "    .colab-df-convert {\n",
              "      background-color: #E8F0FE;\n",
              "      border: none;\n",
              "      border-radius: 50%;\n",
              "      cursor: pointer;\n",
              "      display: none;\n",
              "      fill: #1967D2;\n",
              "      height: 32px;\n",
              "      padding: 0 0 0 0;\n",
              "      width: 32px;\n",
              "    }\n",
              "\n",
              "    .colab-df-convert:hover {\n",
              "      background-color: #E2EBFA;\n",
              "      box-shadow: 0px 1px 2px rgba(60, 64, 67, 0.3), 0px 1px 3px 1px rgba(60, 64, 67, 0.15);\n",
              "      fill: #174EA6;\n",
              "    }\n",
              "\n",
              "    [theme=dark] .colab-df-convert {\n",
              "      background-color: #3B4455;\n",
              "      fill: #D2E3FC;\n",
              "    }\n",
              "\n",
              "    [theme=dark] .colab-df-convert:hover {\n",
              "      background-color: #434B5C;\n",
              "      box-shadow: 0px 1px 3px 1px rgba(0, 0, 0, 0.15);\n",
              "      filter: drop-shadow(0px 1px 2px rgba(0, 0, 0, 0.3));\n",
              "      fill: #FFFFFF;\n",
              "    }\n",
              "  </style>\n",
              "\n",
              "      <script>\n",
              "        const buttonEl =\n",
              "          document.querySelector('#df-8c9d41e0-ce9a-4c23-828c-724e75cb3ddb button.colab-df-convert');\n",
              "        buttonEl.style.display =\n",
              "          google.colab.kernel.accessAllowed ? 'block' : 'none';\n",
              "\n",
              "        async function convertToInteractive(key) {\n",
              "          const element = document.querySelector('#df-8c9d41e0-ce9a-4c23-828c-724e75cb3ddb');\n",
              "          const dataTable =\n",
              "            await google.colab.kernel.invokeFunction('convertToInteractive',\n",
              "                                                     [key], {});\n",
              "          if (!dataTable) return;\n",
              "\n",
              "          const docLinkHtml = 'Like what you see? Visit the ' +\n",
              "            '<a target=\"_blank\" href=https://colab.research.google.com/notebooks/data_table.ipynb>data table notebook</a>'\n",
              "            + ' to learn more about interactive tables.';\n",
              "          element.innerHTML = '';\n",
              "          dataTable['output_type'] = 'display_data';\n",
              "          await google.colab.output.renderOutput(dataTable, element);\n",
              "          const docLink = document.createElement('div');\n",
              "          docLink.innerHTML = docLinkHtml;\n",
              "          element.appendChild(docLink);\n",
              "        }\n",
              "      </script>\n",
              "    </div>\n",
              "  </div>\n",
              "  "
            ]
          },
          "metadata": {},
          "execution_count": 78
        }
      ],
      "source": [
        "df.head()"
      ]
    },
    {
      "cell_type": "code",
      "execution_count": 79,
      "id": "0f3a1578",
      "metadata": {
        "execution": {
          "iopub.execute_input": "2021-11-13T16:30:26.550746Z",
          "iopub.status.busy": "2021-11-13T16:30:26.549943Z",
          "iopub.status.idle": "2021-11-13T16:30:26.802383Z",
          "shell.execute_reply": "2021-11-13T16:30:26.802996Z",
          "shell.execute_reply.started": "2021-11-13T16:18:19.345253Z"
        },
        "papermill": {
          "duration": 0.304318,
          "end_time": "2021-11-13T16:30:26.803171",
          "exception": false,
          "start_time": "2021-11-13T16:30:26.498853",
          "status": "completed"
        },
        "tags": [],
        "colab": {
          "base_uri": "https://localhost:8080/",
          "height": 283
        },
        "id": "0f3a1578",
        "outputId": "6ea64980-f399-4ef2-e6a6-7b45c2800c7d"
      },
      "outputs": [
        {
          "output_type": "execute_result",
          "data": {
            "text/plain": [
              "<matplotlib.axes._subplots.AxesSubplot at 0x7f74f0753110>"
            ]
          },
          "metadata": {},
          "execution_count": 79
        },
        {
          "output_type": "display_data",
          "data": {
            "text/plain": [
              "<Figure size 432x288 with 1 Axes>"
            ],
            "image/png": "[encoded data removed]"
          },
          "metadata": {
            "needs_background": "light"
          }
        }
      ],
      "source": [
        "df.target.value_counts().plot.barh()"
      ]
    },
    {
      "cell_type": "code",
      "execution_count": 80,
      "id": "1af7dda6",
      "metadata": {
        "execution": {
          "iopub.execute_input": "2021-11-13T16:30:27.424715Z",
          "iopub.status.busy": "2021-11-13T16:30:27.204257Z",
          "iopub.status.idle": "2021-11-13T16:30:27.428064Z",
          "shell.execute_reply": "2021-11-13T16:30:27.427513Z",
          "shell.execute_reply.started": "2021-11-13T16:18:19.547544Z"
        },
        "papermill": {
          "duration": 0.274767,
          "end_time": "2021-11-13T16:30:27.428223",
          "exception": false,
          "start_time": "2021-11-13T16:30:27.153456",
          "status": "completed"
        },
        "tags": [],
        "id": "1af7dda6"
      },
      "outputs": [],
      "source": [
        "class TextPreprocessor(TransformerMixin):\n",
        "    def __init__(self, text_attribute):\n",
        "        self.text_attribute = text_attribute\n",
        "        \n",
        "    def transform(self,X, *_):\n",
        "        X_copy=X.copy()\n",
        "        X_copy[self.text_attribute]=X_copy[self.text_attribute].apply(self._preprocess_text)\n",
        "        return X_copy\n",
        "    \n",
        "    def _preprocess_text(self,text):\n",
        "        return self._lemmatize(self._leave_letters_only(self._clean(text)))\n",
        "    \n",
        "    def _clean(self,text):\n",
        "        bad_symbols='!\"#%&\\'*+,-<=>?[\\\\]^_`{|}~'\n",
        "        text_without_symbols=text.translate(str.maketrans('','',bad_symbols))\n",
        "\n",
        "        text_without_bad_words=''\n",
        "        for line in text_without_symbols.split('\\n'):\n",
        "            if not line.lower().startswith('from:') and not line.lower().endswith('writes:'):\n",
        "                text_without_bad_words +=line + '\\n'\n",
        "\n",
        "        clean_text=text_without_bad_words\n",
        "        email_regex=r'([a-zA-Z0-9_.+-]+@[a-zA-Z0-9-]+\\.[a-zA-Z0-9-.]+)'\n",
        "        regexes_to_remove=[email_regex, r'Subject:', r'Re:']\n",
        "        for r in regexes_to_remove:\n",
        "            clean_text=re.sub(r,'', clean_text)\n",
        "        return clean_text\n",
        "    \n",
        "    def _leave_letters_only(self, text):\n",
        "        text_without_punctuation = text.translate(str.maketrans('', '', string.punctuation))\n",
        "        return ' '.join(re.findall(\"[a-zA-Z]+\", text_without_punctuation))\n",
        "    \n",
        "    def _lemmatize(self,text):\n",
        "        doc=nlp(text)\n",
        "        words=[x.lemma_ for x in [y for y in doc if not y.is_stop and y.pos_ != 'PUNCT' \n",
        "                                    and y.pos_ != 'PART' and y.pos_ != 'X']]\n",
        "        return ' '.join(words)\n",
        "    \n",
        "    def fit(self, *_):\n",
        "        return self"
      ]
    },
    {
      "cell_type": "code",
      "execution_count": 81,
      "id": "f2533c6a",
      "metadata": {
        "execution": {
          "iopub.execute_input": "2021-11-13T16:30:27.529044Z",
          "iopub.status.busy": "2021-11-13T16:30:27.528307Z",
          "iopub.status.idle": "2021-11-13T16:35:49.071149Z",
          "shell.execute_reply": "2021-11-13T16:35:49.070547Z",
          "shell.execute_reply.started": "2021-11-13T16:18:19.765174Z"
        },
        "papermill": {
          "duration": 321.593986,
          "end_time": "2021-11-13T16:35:49.071308",
          "exception": false,
          "start_time": "2021-11-13T16:30:27.477322",
          "status": "completed"
        },
        "tags": [],
        "id": "f2533c6a"
      },
      "outputs": [],
      "source": [
        "text_preprocessor=TextPreprocessor(text_attribute='text')\n",
        "df_preprocessed=text_preprocessor.transform(df)"
      ]
    },
    {
      "cell_type": "code",
      "execution_count": 82,
      "id": "f4b0fc42",
      "metadata": {
        "execution": {
          "iopub.execute_input": "2021-11-13T16:35:49.265089Z",
          "iopub.status.busy": "2021-11-13T16:35:49.264117Z",
          "iopub.status.idle": "2021-11-13T16:35:49.273779Z",
          "shell.execute_reply": "2021-11-13T16:35:49.274259Z",
          "shell.execute_reply.started": "2021-11-13T16:23:36.267190Z"
        },
        "papermill": {
          "duration": 0.061526,
          "end_time": "2021-11-13T16:35:49.274435",
          "exception": false,
          "start_time": "2021-11-13T16:35:49.212909",
          "status": "completed"
        },
        "tags": [],
        "id": "f4b0fc42"
      },
      "outputs": [],
      "source": [
        "train,test=train_test_split(df_preprocessed,test_size=0.3)"
      ]
    },
    {
      "cell_type": "code",
      "execution_count": 83,
      "id": "5aae360e",
      "metadata": {
        "execution": {
          "iopub.execute_input": "2021-11-13T16:35:49.416251Z",
          "iopub.status.busy": "2021-11-13T16:35:49.405734Z",
          "iopub.status.idle": "2021-11-13T16:35:50.219235Z",
          "shell.execute_reply": "2021-11-13T16:35:50.218525Z",
          "shell.execute_reply.started": "2021-11-13T16:23:36.278651Z"
        },
        "papermill": {
          "duration": 0.897559,
          "end_time": "2021-11-13T16:35:50.219382",
          "exception": false,
          "start_time": "2021-11-13T16:35:49.321823",
          "status": "completed"
        },
        "tags": [],
        "id": "5aae360e"
      },
      "outputs": [],
      "source": [
        "tfidf_vectorizer=TfidfVectorizer(analyzer=\"word\",max_features=10000)\n",
        "X_tfidf_train=tfidf_vectorizer.fit_transform(train['text'])\n",
        "X_tfidf_test=tfidf_vectorizer.transform(test['text'])"
      ]
    },
    {
      "cell_type": "code",
      "execution_count": 84,
      "id": "6a6b834b",
      "metadata": {
        "execution": {
          "iopub.execute_input": "2021-11-13T16:35:50.324797Z",
          "iopub.status.busy": "2021-11-13T16:35:50.324103Z",
          "iopub.status.idle": "2021-11-13T16:35:50.326388Z",
          "shell.execute_reply": "2021-11-13T16:35:50.326984Z",
          "shell.execute_reply.started": "2021-11-13T16:23:37.139502Z"
        },
        "papermill": {
          "duration": 0.057169,
          "end_time": "2021-11-13T16:35:50.327244",
          "exception": false,
          "start_time": "2021-11-13T16:35:50.270075",
          "status": "completed"
        },
        "tags": [],
        "id": "6a6b834b"
      },
      "outputs": [],
      "source": [
        "y=train['target']\n",
        "y_test=test['target']"
      ]
    },
    {
      "cell_type": "code",
      "execution_count": 85,
      "id": "f40a8907",
      "metadata": {
        "execution": {
          "iopub.execute_input": "2021-11-13T16:35:50.428149Z",
          "iopub.status.busy": "2021-11-13T16:35:50.427421Z",
          "iopub.status.idle": "2021-11-13T16:35:50.429369Z",
          "shell.execute_reply": "2021-11-13T16:35:50.430036Z",
          "shell.execute_reply.started": "2021-11-13T16:23:37.148321Z"
        },
        "papermill": {
          "duration": 0.055116,
          "end_time": "2021-11-13T16:35:50.430203",
          "exception": false,
          "start_time": "2021-11-13T16:35:50.375087",
          "status": "completed"
        },
        "tags": [],
        "id": "f40a8907"
      },
      "outputs": [],
      "source": [
        "X,y=X_tfidf_train,y\n",
        "X_test,y_test=X_tfidf_test,y_test"
      ]
    },
    {
      "cell_type": "markdown",
      "id": "c575023c",
      "metadata": {
        "papermill": {
          "duration": 0.047362,
          "end_time": "2021-11-13T16:35:50.528196",
          "exception": false,
          "start_time": "2021-11-13T16:35:50.480834",
          "status": "completed"
        },
        "tags": [],
        "id": "c575023c"
      },
      "source": [
        "##Feature Scaling"
      ]
    },
    {
      "cell_type": "code",
      "execution_count": 86,
      "id": "891e7f38",
      "metadata": {
        "execution": {
          "iopub.execute_input": "2021-11-13T16:35:50.626807Z",
          "iopub.status.busy": "2021-11-13T16:35:50.626154Z",
          "iopub.status.idle": "2021-11-13T16:35:52.436283Z",
          "shell.execute_reply": "2021-11-13T16:35:52.436858Z",
          "shell.execute_reply.started": "2021-11-13T16:23:37.159243Z"
        },
        "papermill": {
          "duration": 1.861039,
          "end_time": "2021-11-13T16:35:52.437041",
          "exception": false,
          "start_time": "2021-11-13T16:35:50.576002",
          "status": "completed"
        },
        "tags": [],
        "id": "891e7f38"
      },
      "outputs": [],
      "source": [
        "scaler=MinMaxScaler()\n",
        "X_norm=scaler.fit_transform(X.toarray())\n",
        "X_test_norm=scaler.transform(X_test.toarray())"
      ]
    },
    {
      "cell_type": "markdown",
      "id": "bb1c2bd2",
      "metadata": {
        "papermill": {
          "duration": 0.048222,
          "end_time": "2021-11-13T16:35:52.535189",
          "exception": false,
          "start_time": "2021-11-13T16:35:52.486967",
          "status": "completed"
        },
        "tags": [],
        "id": "bb1c2bd2"
      },
      "source": [
        "## Feature Selection"
      ]
    },
    {
      "cell_type": "code",
      "execution_count": 87,
      "id": "7b84dba1",
      "metadata": {
        "execution": {
          "iopub.execute_input": "2021-11-13T16:35:52.636515Z",
          "iopub.status.busy": "2021-11-13T16:35:52.635770Z",
          "iopub.status.idle": "2021-11-13T16:35:54.873840Z",
          "shell.execute_reply": "2021-11-13T16:35:54.873233Z",
          "shell.execute_reply.started": "2021-11-13T16:23:38.936200Z"
        },
        "papermill": {
          "duration": 2.289437,
          "end_time": "2021-11-13T16:35:54.873981",
          "exception": false,
          "start_time": "2021-11-13T16:35:52.584544",
          "status": "completed"
        },
        "tags": [],
        "id": "7b84dba1"
      },
      "outputs": [],
      "source": [
        "lsvc=LinearSVC(C=100,penalty='l1',max_iter=500,dual=False)\n",
        "lsvc.fit(X_norm,y)\n",
        "fs=SelectFromModel(lsvc,prefit=True)\n",
        "X_sel=fs.transform(X_norm)\n",
        "X_test_sel=fs.transform(X_test_norm)"
      ]
    },
    {
      "cell_type": "code",
      "execution_count": 88,
      "id": "892031e9",
      "metadata": {
        "execution": {
          "iopub.execute_input": "2021-11-13T16:35:54.975363Z",
          "iopub.status.busy": "2021-11-13T16:35:54.974265Z",
          "iopub.status.idle": "2021-11-13T16:35:54.980107Z",
          "shell.execute_reply": "2021-11-13T16:35:54.980694Z",
          "shell.execute_reply.started": "2021-11-13T16:23:40.982075Z"
        },
        "papermill": {
          "duration": 0.058823,
          "end_time": "2021-11-13T16:35:54.980863",
          "exception": false,
          "start_time": "2021-11-13T16:35:54.922040",
          "status": "completed"
        },
        "tags": [],
        "id": "892031e9"
      },
      "outputs": [],
      "source": [
        "from IPython.display import Markdown, display\n",
        "def show_top10_features(classifier, feature_names, categories):\n",
        "    for i,category in enumerate(categories):\n",
        "        top10=np.argsort(classifier.coef_[0, i])[-100:]"
      ]
    },
    {
      "cell_type": "code",
      "execution_count": 89,
      "id": "08850fd7",
      "metadata": {
        "execution": {
          "iopub.execute_input": "2021-11-13T16:35:55.081975Z",
          "iopub.status.busy": "2021-11-13T16:35:55.080916Z",
          "iopub.status.idle": "2021-11-13T16:35:55.107958Z",
          "shell.execute_reply": "2021-11-13T16:35:55.108524Z",
          "shell.execute_reply.started": "2021-11-13T16:23:40.989400Z"
        },
        "papermill": {
          "duration": 0.079371,
          "end_time": "2021-11-13T16:35:55.108696",
          "exception": false,
          "start_time": "2021-11-13T16:35:55.029325",
          "status": "completed"
        },
        "tags": [],
        "id": "08850fd7"
      },
      "outputs": [],
      "source": [
        "feature_names=np.array(tfidf_vectorizer.get_feature_names())\n",
        "show_top10_features(lsvc,feature_names, lsvc.classes_)"
      ]
    },
    {
      "cell_type": "code",
      "execution_count": 90,
      "id": "b08b904f",
      "metadata": {
        "execution": {
          "iopub.execute_input": "2021-11-13T16:35:55.210077Z",
          "iopub.status.busy": "2021-11-13T16:35:55.209091Z",
          "iopub.status.idle": "2021-11-13T16:35:55.215210Z",
          "shell.execute_reply": "2021-11-13T16:35:55.215754Z",
          "shell.execute_reply.started": "2021-11-13T16:23:41.023942Z"
        },
        "papermill": {
          "duration": 0.058628,
          "end_time": "2021-11-13T16:35:55.215925",
          "exception": false,
          "start_time": "2021-11-13T16:35:55.157297",
          "status": "completed"
        },
        "tags": [],
        "id": "b08b904f",
        "outputId": "773f4dc1-29a9-4219-b061-69af44afba1e",
        "colab": {
          "base_uri": "https://localhost:8080/"
        }
      },
      "outputs": [
        {
          "output_type": "stream",
          "name": "stdout",
          "text": [
            "New dataset shape:  (8122, 2903)\n",
            "Reduced Number of Features:  7097\n"
          ]
        }
      ],
      "source": [
        "print(\"New dataset shape: \",X_sel.shape)\n",
        "print(\"Reduced Number of Features: \",X_norm.shape[1]-X_sel.shape[1])"
      ]
    },
    {
      "cell_type": "markdown",
      "id": "cac1f359",
      "metadata": {
        "papermill": {
          "duration": 0.049383,
          "end_time": "2021-11-13T16:35:55.315384",
          "exception": false,
          "start_time": "2021-11-13T16:35:55.266001",
          "status": "completed"
        },
        "tags": [],
        "id": "cac1f359"
      },
      "source": [
        "## Predictive Models"
      ]
    },
    {
      "cell_type": "code",
      "execution_count": 91,
      "id": "7f09c644",
      "metadata": {
        "execution": {
          "iopub.execute_input": "2021-11-13T16:35:55.423257Z",
          "iopub.status.busy": "2021-11-13T16:35:55.422211Z",
          "iopub.status.idle": "2021-11-13T16:35:55.426719Z",
          "shell.execute_reply": "2021-11-13T16:35:55.427175Z",
          "shell.execute_reply.started": "2021-11-13T16:23:41.030868Z"
        },
        "papermill": {
          "duration": 0.06281,
          "end_time": "2021-11-13T16:35:55.427348",
          "exception": false,
          "start_time": "2021-11-13T16:35:55.364538",
          "status": "completed"
        },
        "tags": [],
        "id": "7f09c644"
      },
      "outputs": [],
      "source": [
        "def print_confusion_matrix(confusion_matrix, \n",
        "                           class_names, \n",
        "                           figsize=(8,8), \n",
        "                           fontsize=12,\n",
        "                           ylabel='True label',\n",
        "                           xlabel='Predicted label'):\n",
        "    df_cm = pd.DataFrame(\n",
        "        confusion_matrix, index=class_names, columns=class_names, \n",
        "    )\n",
        "    fig = plt.figure(figsize=figsize)\n",
        "    try:\n",
        "        heatmap = sns.heatmap(df_cm, annot=True, fmt=\"d\")\n",
        "    except ValueError:\n",
        "        raise ValueError(\"Confusion matrix values must be integers.\")\n",
        "    heatmap.yaxis.set_ticklabels(heatmap.yaxis.get_ticklabels(), rotation=0, ha='right',fontsize=fontsize)\n",
        "    heatmap.xaxis.set_ticklabels(heatmap.xaxis.get_ticklabels(), rotation=45, ha='right',fontsize=fontsize)\n",
        "    plt.ylabel(ylabel)\n",
        "    plt.xlabel(xlabel)"
      ]
    },
    {
      "cell_type": "code",
      "execution_count": 92,
      "id": "b8940992",
      "metadata": {
        "execution": {
          "iopub.execute_input": "2021-11-13T16:35:55.536123Z",
          "iopub.status.busy": "2021-11-13T16:35:55.535021Z",
          "iopub.status.idle": "2021-11-13T16:35:55.536942Z",
          "shell.execute_reply": "2021-11-13T16:35:55.537437Z",
          "shell.execute_reply.started": "2021-11-13T16:23:41.043756Z"
        },
        "papermill": {
          "duration": 0.061077,
          "end_time": "2021-11-13T16:35:55.537618",
          "exception": false,
          "start_time": "2021-11-13T16:35:55.476541",
          "status": "completed"
        },
        "tags": [],
        "id": "b8940992"
      },
      "outputs": [],
      "source": [
        "def evaluate_model(model, X, y, X_test, y_test, target_names=None):\n",
        "    scores = cross_val_score(model, X, y, cv=5, scoring='accuracy')\n",
        "    scores_test = cross_val_score(model, X_test, y_test, cv=5, scoring='accuracy')\n",
        "    \n",
        "    print(\"Accuracy: %0.2f (+/- %0.2f)\" % (scores.mean(), scores.std()))\n",
        "    print(\"Accuracy test: %0.2f (+/- %0.2f)\" % (scores_test.mean(), scores_test.std()))\n",
        "    \n",
        "    print(\"Test classification report: \")\n",
        "    if target_names is None:\n",
        "        target_names = model.classes_\n",
        "    print(classification_report(y_test, model.predict(X_test), target_names=target_names))\n",
        "    print(\"Test confusion matrix: \")\n",
        "    print_confusion_matrix(confusion_matrix(y_test, model.predict(X_test)), class_names=target_names)"
      ]
    },
    {
      "cell_type": "markdown",
      "id": "cf6b8582",
      "metadata": {
        "papermill": {
          "duration": 0.048568,
          "end_time": "2021-11-13T16:35:55.732415",
          "exception": false,
          "start_time": "2021-11-13T16:35:55.683847",
          "status": "completed"
        },
        "tags": [],
        "id": "cf6b8582"
      },
      "source": [
        "## Multinomial Naive Bayes"
      ]
    },
    {
      "cell_type": "code",
      "execution_count": 93,
      "id": "dcbd60e1",
      "metadata": {
        "execution": {
          "iopub.execute_input": "2021-11-13T16:35:55.838456Z",
          "iopub.status.busy": "2021-11-13T16:35:55.836869Z",
          "iopub.status.idle": "2021-11-13T16:35:58.435161Z",
          "shell.execute_reply": "2021-11-13T16:35:58.435669Z",
          "shell.execute_reply.started": "2021-11-13T16:23:41.060538Z"
        },
        "papermill": {
          "duration": 2.654459,
          "end_time": "2021-11-13T16:35:58.435853",
          "exception": false,
          "start_time": "2021-11-13T16:35:55.781394",
          "status": "completed"
        },
        "tags": [],
        "id": "dcbd60e1",
        "outputId": "fa44ff95-4335-41b0-8843-f296adb185ac",
        "colab": {
          "base_uri": "https://localhost:8080/",
          "height": 819
        }
      },
      "outputs": [
        {
          "output_type": "stream",
          "name": "stdout",
          "text": [
            "Accuracy: 0.91 (+/- 0.00)\n",
            "Accuracy test: 0.85 (+/- 0.02)\n",
            "Test classification report: \n",
            "                    precision    recall  f1-score   support\n",
            "\n",
            "     not depressed       0.94      0.80      0.87      1774\n",
            "severely depressed       0.82      0.95      0.88      1708\n",
            "\n",
            "          accuracy                           0.87      3482\n",
            "         macro avg       0.88      0.87      0.87      3482\n",
            "      weighted avg       0.88      0.87      0.87      3482\n",
            "\n",
            "Test confusion matrix: \n"
          ]
        },
        {
          "output_type": "display_data",
          "data": {
            "text/plain": [
              "<Figure size 576x576 with 2 Axes>"
            ],
            "image/png": "[encoded data removed]"
          },
          "metadata": {
            "needs_background": "light"
          }
        }
      ],
      "source": [
        "mb=MultinomialNB()\n",
        "mb.fit(X_sel, y)\n",
        "evaluate_model(mb,X_sel,y,X_test_sel,y_test)"
      ]
    },
    {
      "cell_type": "markdown",
      "id": "17b179a2",
      "metadata": {
        "papermill": {
          "duration": 0.05339,
          "end_time": "2021-11-13T16:36:01.276063",
          "exception": false,
          "start_time": "2021-11-13T16:36:01.222673",
          "status": "completed"
        },
        "tags": [],
        "id": "17b179a2"
      },
      "source": [
        "## Logistic Regression"
      ]
    },
    {
      "cell_type": "code",
      "execution_count": 94,
      "id": "f965f18c",
      "metadata": {
        "execution": {
          "iopub.execute_input": "2021-11-13T16:36:01.389705Z",
          "iopub.status.busy": "2021-11-13T16:36:01.388996Z",
          "iopub.status.idle": "2021-11-13T16:36:04.733210Z",
          "shell.execute_reply": "2021-11-13T16:36:04.733746Z",
          "shell.execute_reply.started": "2021-11-13T16:23:46.069709Z"
        },
        "papermill": {
          "duration": 3.404382,
          "end_time": "2021-11-13T16:36:04.733920",
          "exception": false,
          "start_time": "2021-11-13T16:36:01.329538",
          "status": "completed"
        },
        "tags": [],
        "id": "f965f18c",
        "outputId": "4377a72f-3134-4433-a4d6-7f2658f8feab",
        "colab": {
          "base_uri": "https://localhost:8080/",
          "height": 819
        }
      },
      "outputs": [
        {
          "output_type": "stream",
          "name": "stdout",
          "text": [
            "Accuracy: 0.92 (+/- 0.00)\n",
            "Accuracy test: 0.88 (+/- 0.01)\n",
            "Test classification report: \n",
            "                    precision    recall  f1-score   support\n",
            "\n",
            "     not depressed       0.90      0.90      0.90      1774\n",
            "severely depressed       0.89      0.90      0.90      1708\n",
            "\n",
            "          accuracy                           0.90      3482\n",
            "         macro avg       0.90      0.90      0.90      3482\n",
            "      weighted avg       0.90      0.90      0.90      3482\n",
            "\n",
            "Test confusion matrix: \n"
          ]
        },
        {
          "output_type": "display_data",
          "data": {
            "text/plain": [
              "<Figure size 576x576 with 2 Axes>"
            ],
            "image/png": "[encoded data removed]"
          },
          "metadata": {
            "needs_background": "light"
          }
        }
      ],
      "source": [
        "lr=LogisticRegression(multi_class='ovr',solver='liblinear',C=10,penalty='l2')\n",
        "lr.fit(X_sel,y)\n",
        "evaluate_model(lr,X_sel,y,X_test_sel,y_test)"
      ]
    },
    {
      "cell_type": "markdown",
      "id": "cab2c0e1",
      "metadata": {
        "papermill": {
          "duration": 0.059491,
          "end_time": "2021-11-13T16:36:14.867267",
          "exception": false,
          "start_time": "2021-11-13T16:36:14.807776",
          "status": "completed"
        },
        "tags": [],
        "id": "cab2c0e1"
      },
      "source": [
        "## SGDClassifier"
      ]
    },
    {
      "cell_type": "code",
      "execution_count": 95,
      "id": "200671ec",
      "metadata": {
        "execution": {
          "iopub.execute_input": "2021-11-13T16:36:14.993595Z",
          "iopub.status.busy": "2021-11-13T16:36:14.992729Z",
          "iopub.status.idle": "2021-11-13T16:36:33.222747Z",
          "shell.execute_reply": "2021-11-13T16:36:33.221730Z",
          "shell.execute_reply.started": "2021-11-13T16:23:58.347262Z"
        },
        "papermill": {
          "duration": 18.295749,
          "end_time": "2021-11-13T16:36:33.222896",
          "exception": false,
          "start_time": "2021-11-13T16:36:14.927147",
          "status": "completed"
        },
        "tags": [],
        "id": "200671ec",
        "outputId": "38e14abc-0b2b-4c71-c42d-bebb06204804",
        "colab": {
          "base_uri": "https://localhost:8080/",
          "height": 819
        }
      },
      "outputs": [
        {
          "output_type": "stream",
          "name": "stdout",
          "text": [
            "Accuracy: 0.91 (+/- 0.00)\n",
            "Accuracy test: 0.88 (+/- 0.01)\n",
            "Test classification report: \n",
            "                    precision    recall  f1-score   support\n",
            "\n",
            "     not depressed       0.91      0.91      0.91      1774\n",
            "severely depressed       0.91      0.90      0.91      1708\n",
            "\n",
            "          accuracy                           0.91      3482\n",
            "         macro avg       0.91      0.91      0.91      3482\n",
            "      weighted avg       0.91      0.91      0.91      3482\n",
            "\n",
            "Test confusion matrix: \n"
          ]
        },
        {
          "output_type": "display_data",
          "data": {
            "text/plain": [
              "<Figure size 576x576 with 2 Axes>"
            ],
            "image/png": "[encoded data removed]"
          },
          "metadata": {
            "needs_background": "light"
          }
        }
      ],
      "source": [
        "sgd=SGDClassifier(alpha=.0001, max_iter=50, loss='log',penalty=\"elasticnet\", n_jobs=-1)\n",
        "sgd.fit(X_sel,y)\n",
        "evaluate_model(sgd, X_sel, y, X_test_sel, y_test)"
      ]
    },
    {
      "cell_type": "markdown",
      "id": "e1f4c044",
      "metadata": {
        "papermill": {
          "duration": 0.063164,
          "end_time": "2021-11-13T16:36:33.348190",
          "exception": false,
          "start_time": "2021-11-13T16:36:33.285026",
          "status": "completed"
        },
        "tags": [],
        "id": "e1f4c044"
      },
      "source": [
        "## Soft Voting"
      ]
    },
    {
      "cell_type": "code",
      "execution_count": 96,
      "id": "2ea02530",
      "metadata": {
        "execution": {
          "iopub.execute_input": "2021-11-13T16:36:33.475088Z",
          "iopub.status.busy": "2021-11-13T16:36:33.474407Z",
          "iopub.status.idle": "2021-11-13T16:36:56.467828Z",
          "shell.execute_reply": "2021-11-13T16:36:56.467260Z",
          "shell.execute_reply.started": "2021-11-13T16:24:14.408656Z"
        },
        "papermill": {
          "duration": 23.058406,
          "end_time": "2021-11-13T16:36:56.467977",
          "exception": false,
          "start_time": "2021-11-13T16:36:33.409571",
          "status": "completed"
        },
        "tags": [],
        "id": "2ea02530",
        "colab": {
          "base_uri": "https://localhost:8080/",
          "height": 819
        },
        "outputId": "f9467f4a-78dc-4bc2-b855-0afda08f2fbc"
      },
      "outputs": [
        {
          "output_type": "stream",
          "name": "stdout",
          "text": [
            "Accuracy: 0.93 (+/- 0.00)\n",
            "Accuracy test: 0.89 (+/- 0.01)\n",
            "Test classification report: \n",
            "                    precision    recall  f1-score   support\n",
            "\n",
            "     not depressed       0.91      0.90      0.90      1774\n",
            "severely depressed       0.89      0.91      0.90      1708\n",
            "\n",
            "          accuracy                           0.90      3482\n",
            "         macro avg       0.90      0.90      0.90      3482\n",
            "      weighted avg       0.90      0.90      0.90      3482\n",
            "\n",
            "Test confusion matrix: \n"
          ]
        },
        {
          "output_type": "display_data",
          "data": {
            "text/plain": [
              "<Figure size 576x576 with 2 Axes>"
            ],
            "image/png": "[encoded data removed]"
          },
          "metadata": {
            "needs_background": "light"
          }
        }
      ],
      "source": [
        "vclf_sgd=VotingClassifier(estimators=[\n",
        "        ('lr',LogisticRegression(multi_class='ovr',solver='liblinear',C=10,penalty='l2')),\n",
        "        ('mb',MultinomialNB()),\n",
        "        ('sgd',SGDClassifier(alpha=.0001,max_iter=50,loss='log',penalty=\"elasticnet\"))],voting='soft',n_jobs=-1)\n",
        "vclf_sgd.fit(X_sel,y)\n",
        "evaluate_model(vclf_sgd,X_sel,y,X_test_sel,y_test)"
      ]
    },
    {
      "cell_type": "markdown",
      "id": "9c7c6a27",
      "metadata": {
        "papermill": {
          "duration": 0.064043,
          "end_time": "2021-11-13T16:36:56.596398",
          "exception": false,
          "start_time": "2021-11-13T16:36:56.532355",
          "status": "completed"
        },
        "tags": [],
        "id": "9c7c6a27"
      },
      "source": [
        "#Creating Pipeline"
      ]
    },
    {
      "cell_type": "code",
      "execution_count": 97,
      "id": "efaed215",
      "metadata": {
        "execution": {
          "iopub.execute_input": "2021-11-13T16:36:56.738337Z",
          "iopub.status.busy": "2021-11-13T16:36:56.737631Z",
          "iopub.status.idle": "2021-11-13T16:36:56.739340Z",
          "shell.execute_reply": "2021-11-13T16:36:56.739842Z",
          "shell.execute_reply.started": "2021-11-13T16:24:35.370254Z"
        },
        "papermill": {
          "duration": 0.079183,
          "end_time": "2021-11-13T16:36:56.740016",
          "exception": false,
          "start_time": "2021-11-13T16:36:56.660833",
          "status": "completed"
        },
        "tags": [],
        "id": "efaed215"
      },
      "outputs": [],
      "source": [
        "class TextPreprocessor(BaseEstimator,TransformerMixin):\n",
        "    def __init__(self, text_attribute):\n",
        "        self.text_attribute = text_attribute\n",
        "    \n",
        "    def fit(self,X,y=None):\n",
        "        return self\n",
        "        \n",
        "    def transform(self,X, *_):\n",
        "        X_copy = X.copy()\n",
        "        return X_copy[self.text_attribute].apply(self._preprocess_text)\n",
        "    \n",
        "    def _preprocess_text(self, text):\n",
        "        return self._lemmatize(self._leave_letters_only(self._clean(text)))\n",
        "    \n",
        "    def _clean(self, text):\n",
        "        bad_symbols='!\"#%&\\'*+,-<=>?[\\\\]^_`{|}~'\n",
        "        text_without_symbols = text.translate(str.maketrans('', '', bad_symbols))\n",
        "\n",
        "        text_without_bad_words=''\n",
        "        for line in text_without_symbols.split('\\n'):\n",
        "            if not line.lower().startswith('from:') and not line.lower().endswith('writes:'):\n",
        "                text_without_bad_words += line + '\\n'\n",
        "\n",
        "        clean_text=text_without_bad_words\n",
        "        email_regex=r'([a-zA-Z0-9_.+-]+@[a-zA-Z0-9-]+\\.[a-zA-Z0-9-.]+)'\n",
        "        regexes_to_remove=[email_regex, r'Subject:', r'Re:']\n",
        "        for r in regexes_to_remove:\n",
        "            clean_tex=re.sub(r,'',clean_text)\n",
        "        return clean_text\n",
        "    \n",
        "    def _leave_letters_only(self,text):\n",
        "        text_without_punctuation=text.translate(str.maketrans('','',string.punctuation))\n",
        "        return ' '.join(re.findall(\"[a-zA-Z]+\", text_without_punctuation))\n",
        "    \n",
        "    def _lemmatize(self, text):\n",
        "        doc=nlp(text)\n",
        "        words=[x.lemma_ for x in [y for y in doc if not y.is_stop and y.pos_ != 'PUNCT' and y.pos_ != 'PART' and y.pos_ != 'X']]\n",
        "        return ' '.join(words)"
      ]
    },
    {
      "cell_type": "code",
      "execution_count": 98,
      "id": "d00e1c4d",
      "metadata": {
        "execution": {
          "iopub.execute_input": "2021-11-13T16:36:56.871244Z",
          "iopub.status.busy": "2021-11-13T16:36:56.870576Z",
          "iopub.status.idle": "2021-11-13T16:36:56.875122Z",
          "shell.execute_reply": "2021-11-13T16:36:56.875672Z",
          "shell.execute_reply.started": "2021-11-13T16:24:35.385341Z"
        },
        "papermill": {
          "duration": 0.071331,
          "end_time": "2021-11-13T16:36:56.875844",
          "exception": false,
          "start_time": "2021-11-13T16:36:56.804513",
          "status": "completed"
        },
        "tags": [],
        "id": "d00e1c4d"
      },
      "outputs": [],
      "source": [
        "class DenseTransformer(TransformerMixin):\n",
        "    def fit(self,X,y=None, **fit_params):\n",
        "        return self\n",
        "\n",
        "    def transform(self,X,y=None, **fit_params):\n",
        "        return X.todense()"
      ]
    },
    {
      "cell_type": "code",
      "execution_count": 99,
      "id": "8f484116",
      "metadata": {
        "execution": {
          "iopub.execute_input": "2021-11-13T16:36:57.009605Z",
          "iopub.status.busy": "2021-11-13T16:36:57.008885Z",
          "iopub.status.idle": "2021-11-13T16:36:57.017225Z",
          "shell.execute_reply": "2021-11-13T16:36:57.016559Z",
          "shell.execute_reply.started": "2021-11-13T16:24:35.405301Z"
        },
        "papermill": {
          "duration": 0.076643,
          "end_time": "2021-11-13T16:36:57.017392",
          "exception": false,
          "start_time": "2021-11-13T16:36:56.940749",
          "status": "completed"
        },
        "tags": [],
        "id": "8f484116"
      },
      "outputs": [],
      "source": [
        "text_classification_pipeline=Pipeline([\n",
        "    ('text_preprocessor',TextPreprocessor(text_attribute='text')),\n",
        "    ('vectorizer',TfidfVectorizer(analyzer = \"word\", max_features=10000)),\n",
        "    ('todense_converter',DenseTransformer()),\n",
        "    ('scaler',MinMaxScaler()),\n",
        "    ('classifier',VotingClassifier(estimators=[\n",
        "                        ('lr',LogisticRegression(multi_class='ovr', solver = 'liblinear', C=10, penalty = 'l2')),\n",
        "                        ('mb',MultinomialNB()),\n",
        "                        ('sgd',SGDClassifier(alpha=.0001, max_iter=50, loss='log', penalty=\"elasticnet\"))], voting='soft', n_jobs=-1))])"
      ]
    },
    {
      "cell_type": "markdown",
      "id": "7250256c",
      "metadata": {
        "papermill": {
          "duration": 0.063201,
          "end_time": "2021-11-13T16:36:57.283540",
          "exception": false,
          "start_time": "2021-11-13T16:36:57.220339",
          "status": "completed"
        },
        "tags": [],
        "id": "7250256c"
      },
      "source": [
        "# Testing Cases"
      ]
    },
    {
      "cell_type": "code",
      "execution_count": 133,
      "id": "937e0d75",
      "metadata": {
        "execution": {
          "iopub.execute_input": "2021-11-13T16:36:57.557325Z",
          "iopub.status.busy": "2021-11-13T16:36:57.556680Z",
          "iopub.status.idle": "2021-11-13T16:36:57.571377Z",
          "shell.execute_reply": "2021-11-13T16:36:57.570713Z",
          "shell.execute_reply.started": "2021-11-13T16:25:19.259677Z"
        },
        "papermill": {
          "duration": 0.081311,
          "end_time": "2021-11-13T16:36:57.571545",
          "exception": false,
          "start_time": "2021-11-13T16:36:57.490234",
          "status": "completed"
        },
        "tags": [],
        "id": "937e0d75",
        "colab": {
          "base_uri": "https://localhost:8080/",
          "height": 206
        },
        "outputId": "6433b9f3-b080-4adc-d1ad-01bd7fb38926"
      },
      "outputs": [
        {
          "output_type": "execute_result",
          "data": {
            "text/plain": [
              "                                                    text\n",
              "11604  I haven't done or been in remote classes and I...\n",
              "11605  Let's mess up the billionaires And since we le...\n",
              "11606  Why do people think every mistake can be fixed...\n",
              "11607  Sweden, a tool to further your political agend...\n",
              "11608  My Mother is suicidal and has a plan, not sure..."
            ],
            "text/html": [
              "\n",
              "  <div id=\"df-aa129082-619f-4077-9a7e-cbecc34da022\">\n",
              "    <div class=\"colab-df-container\">\n",
              "      <div>\n",
              "<style scoped>\n",
              "    .dataframe tbody tr th:only-of-type {\n",
              "        vertical-align: middle;\n",
              "    }\n",
              "\n",
              "    .dataframe tbody tr th {\n",
              "        vertical-align: top;\n",
              "    }\n",
              "\n",
              "    .dataframe thead th {\n",
              "        text-align: right;\n",
              "    }\n",
              "</style>\n",
              "<table border=\"1\" class=\"dataframe\">\n",
              "  <thead>\n",
              "    <tr style=\"text-align: right;\">\n",
              "      <th></th>\n",
              "      <th>text</th>\n",
              "    </tr>\n",
              "  </thead>\n",
              "  <tbody>\n",
              "    <tr>\n",
              "      <th>11604</th>\n",
              "      <td>I haven't done or been in remote classes and I...</td>\n",
              "    </tr>\n",
              "    <tr>\n",
              "      <th>11605</th>\n",
              "      <td>Let's mess up the billionaires And since we le...</td>\n",
              "    </tr>\n",
              "    <tr>\n",
              "      <th>11606</th>\n",
              "      <td>Why do people think every mistake can be fixed...</td>\n",
              "    </tr>\n",
              "    <tr>\n",
              "      <th>11607</th>\n",
              "      <td>Sweden, a tool to further your political agend...</td>\n",
              "    </tr>\n",
              "    <tr>\n",
              "      <th>11608</th>\n",
              "      <td>My Mother is suicidal and has a plan, not sure...</td>\n",
              "    </tr>\n",
              "  </tbody>\n",
              "</table>\n",
              "</div>\n",
              "      <button class=\"colab-df-convert\" onclick=\"convertToInteractive('df-aa129082-619f-4077-9a7e-cbecc34da022')\"\n",
              "              title=\"Convert this dataframe to an interactive table.\"\n",
              "              style=\"display:none;\">\n",
              "        \n",
              "  <svg xmlns=\"http://www.w3.org/2000/svg\" height=\"24px\"viewBox=\"0 0 24 24\"\n",
              "       width=\"24px\">\n",
              "    <path d=\"M0 0h24v24H0V0z\" fill=\"none\"/>\n",
              "    <path d=\"M18.56 5.44l.94 2.06.94-2.06 2.06-.94-2.06-.94-.94-2.06-.94 2.06-2.06.94zm-11 1L8.5 8.5l.94-2.06 2.06-.94-2.06-.94L8.5 2.5l-.94 2.06-2.06.94zm10 10l.94 2.06.94-2.06 2.06-.94-2.06-.94-.94-2.06-.94 2.06-2.06.94z\"/><path d=\"M17.41 7.96l-1.37-1.37c-.4-.4-.92-.59-1.43-.59-.52 0-1.04.2-1.43.59L10.3 9.45l-7.72 7.72c-.78.78-.78 2.05 0 2.83L4 21.41c.39.39.9.59 1.41.59.51 0 1.02-.2 1.41-.59l7.78-7.78 2.81-2.81c.8-.78.8-2.07 0-2.86zM5.41 20L4 18.59l7.72-7.72 1.47 1.35L5.41 20z\"/>\n",
              "  </svg>\n",
              "      </button>\n",
              "      \n",
              "  <style>\n",
              "    .colab-df-container {\n",
              "      display:flex;\n",
              "      flex-wrap:wrap;\n",
              "      gap: 12px;\n",
              "    }\n",
              "\n",
              "    .colab-df-convert {\n",
              "      background-color: #E8F0FE;\n",
              "      border: none;\n",
              "      border-radius: 50%;\n",
              "      cursor: pointer;\n",
              "      display: none;\n",
              "      fill: #1967D2;\n",
              "      height: 32px;\n",
              "      padding: 0 0 0 0;\n",
              "      width: 32px;\n",
              "    }\n",
              "\n",
              "    .colab-df-convert:hover {\n",
              "      background-color: #E2EBFA;\n",
              "      box-shadow: 0px 1px 2px rgba(60, 64, 67, 0.3), 0px 1px 3px 1px rgba(60, 64, 67, 0.15);\n",
              "      fill: #174EA6;\n",
              "    }\n",
              "\n",
              "    [theme=dark] .colab-df-convert {\n",
              "      background-color: #3B4455;\n",
              "      fill: #D2E3FC;\n",
              "    }\n",
              "\n",
              "    [theme=dark] .colab-df-convert:hover {\n",
              "      background-color: #434B5C;\n",
              "      box-shadow: 0px 1px 3px 1px rgba(0, 0, 0, 0.15);\n",
              "      filter: drop-shadow(0px 1px 2px rgba(0, 0, 0, 0.3));\n",
              "      fill: #FFFFFF;\n",
              "    }\n",
              "  </style>\n",
              "\n",
              "      <script>\n",
              "        const buttonEl =\n",
              "          document.querySelector('#df-aa129082-619f-4077-9a7e-cbecc34da022 button.colab-df-convert');\n",
              "        buttonEl.style.display =\n",
              "          google.colab.kernel.accessAllowed ? 'block' : 'none';\n",
              "\n",
              "        async function convertToInteractive(key) {\n",
              "          const element = document.querySelector('#df-aa129082-619f-4077-9a7e-cbecc34da022');\n",
              "          const dataTable =\n",
              "            await google.colab.kernel.invokeFunction('convertToInteractive',\n",
              "                                                     [key], {});\n",
              "          if (!dataTable) return;\n",
              "\n",
              "          const docLinkHtml = 'Like what you see? Visit the ' +\n",
              "            '<a target=\"_blank\" href=https://colab.research.google.com/notebooks/data_table.ipynb>data table notebook</a>'\n",
              "            + ' to learn more about interactive tables.';\n",
              "          element.innerHTML = '';\n",
              "          dataTable['output_type'] = 'display_data';\n",
              "          await google.colab.output.renderOutput(dataTable, element);\n",
              "          const docLink = document.createElement('div');\n",
              "          docLink.innerHTML = docLinkHtml;\n",
              "          element.appendChild(docLink);\n",
              "        }\n",
              "      </script>\n",
              "    </div>\n",
              "  </div>\n",
              "  "
            ]
          },
          "metadata": {},
          "execution_count": 133
        }
      ],
      "source": [
        "X_p=df2.drop(columns=[\"class\",\"Unnamed: 0\"])\n",
        "y_p=df2['class']\n",
        "X_p.head()"
      ]
    },
    {
      "cell_type": "code",
      "source": [
        "pipeline=text_classification_pipeline\n",
        "pipeline.fit(X_p,y_p)"
      ],
      "metadata": {
        "colab": {
          "base_uri": "https://localhost:8080/"
        },
        "id": "zAiwqIi8snxX",
        "outputId": "493911a0-e152-41d4-c1b1-d3aa6ef74941"
      },
      "id": "zAiwqIi8snxX",
      "execution_count": 134,
      "outputs": [
        {
          "output_type": "execute_result",
          "data": {
            "text/plain": [
              "Pipeline(steps=[('text_preprocessor', TextPreprocessor(text_attribute='text')),\n",
              "                ('vectorizer', TfidfVectorizer(max_features=10000)),\n",
              "                ('todense_converter',\n",
              "                 <__main__.DenseTransformer object at 0x7f74f08a7650>),\n",
              "                ('scaler', MinMaxScaler()),\n",
              "                ('classifier',\n",
              "                 VotingClassifier(estimators=[('lr',\n",
              "                                               LogisticRegression(C=10,\n",
              "                                                                  multi_class='ovr',\n",
              "                                                                  solver='liblinear')),\n",
              "                                              ('mb', MultinomialNB()),\n",
              "                                              ('sgd',\n",
              "                                               SGDClassifier(loss='log',\n",
              "                                                             max_iter=50,\n",
              "                                                             penalty='elasticnet'))],\n",
              "                                  n_jobs=-1, voting='soft'))])"
            ]
          },
          "metadata": {},
          "execution_count": 134
        }
      ]
    },
    {
      "cell_type": "code",
      "source": [
        "y_pred=pipeline.predict(X_p)"
      ],
      "metadata": {
        "id": "Z72_nBgvsp4-"
      },
      "id": "Z72_nBgvsp4-",
      "execution_count": 135,
      "outputs": []
    },
    {
      "cell_type": "code",
      "source": [
        "data=['Be happy with the little you have. There are some people with nothing who still manage to smile.Happiness can be found, even in the darkest of times, if one only remembers to turn on the light.Happiness is like knowledge; it increases, when you provide other persons, so try to make people happy.']\n",
        "X_p_test=pd.DataFrame(data,columns=['text'])\n",
        "X_p_test"
      ],
      "metadata": {
        "colab": {
          "base_uri": "https://localhost:8080/",
          "height": 146
        },
        "id": "bvFdaQDjVOE0",
        "outputId": "2c3b295c-54bf-4118-dd87-a7bb4d8bd8ca"
      },
      "id": "bvFdaQDjVOE0",
      "execution_count": 136,
      "outputs": [
        {
          "output_type": "execute_result",
          "data": {
            "text/plain": [
              "                                                text\n",
              "0  Be happy with the little you have. There are s..."
            ],
            "text/html": [
              "\n",
              "  <div id=\"df-1ea85a8a-009f-4d4d-a254-4d0c7edbbdc8\">\n",
              "    <div class=\"colab-df-container\">\n",
              "      <div>\n",
              "<style scoped>\n",
              "    .dataframe tbody tr th:only-of-type {\n",
              "        vertical-align: middle;\n",
              "    }\n",
              "\n",
              "    .dataframe tbody tr th {\n",
              "        vertical-align: top;\n",
              "    }\n",
              "\n",
              "    .dataframe thead th {\n",
              "        text-align: right;\n",
              "    }\n",
              "</style>\n",
              "<table border=\"1\" class=\"dataframe\">\n",
              "  <thead>\n",
              "    <tr style=\"text-align: right;\">\n",
              "      <th></th>\n",
              "      <th>text</th>\n",
              "    </tr>\n",
              "  </thead>\n",
              "  <tbody>\n",
              "    <tr>\n",
              "      <th>0</th>\n",
              "      <td>Be happy with the little you have. There are s...</td>\n",
              "    </tr>\n",
              "  </tbody>\n",
              "</table>\n",
              "</div>\n",
              "      <button class=\"colab-df-convert\" onclick=\"convertToInteractive('df-1ea85a8a-009f-4d4d-a254-4d0c7edbbdc8')\"\n",
              "              title=\"Convert this dataframe to an interactive table.\"\n",
              "              style=\"display:none;\">\n",
              "        \n",
              "  <svg xmlns=\"http://www.w3.org/2000/svg\" height=\"24px\"viewBox=\"0 0 24 24\"\n",
              "       width=\"24px\">\n",
              "    <path d=\"M0 0h24v24H0V0z\" fill=\"none\"/>\n",
              "    <path d=\"M18.56 5.44l.94 2.06.94-2.06 2.06-.94-2.06-.94-.94-2.06-.94 2.06-2.06.94zm-11 1L8.5 8.5l.94-2.06 2.06-.94-2.06-.94L8.5 2.5l-.94 2.06-2.06.94zm10 10l.94 2.06.94-2.06 2.06-.94-2.06-.94-.94-2.06-.94 2.06-2.06.94z\"/><path d=\"M17.41 7.96l-1.37-1.37c-.4-.4-.92-.59-1.43-.59-.52 0-1.04.2-1.43.59L10.3 9.45l-7.72 7.72c-.78.78-.78 2.05 0 2.83L4 21.41c.39.39.9.59 1.41.59.51 0 1.02-.2 1.41-.59l7.78-7.78 2.81-2.81c.8-.78.8-2.07 0-2.86zM5.41 20L4 18.59l7.72-7.72 1.47 1.35L5.41 20z\"/>\n",
              "  </svg>\n",
              "      </button>\n",
              "      \n",
              "  <style>\n",
              "    .colab-df-container {\n",
              "      display:flex;\n",
              "      flex-wrap:wrap;\n",
              "      gap: 12px;\n",
              "    }\n",
              "\n",
              "    .colab-df-convert {\n",
              "      background-color: #E8F0FE;\n",
              "      border: none;\n",
              "      border-radius: 50%;\n",
              "      cursor: pointer;\n",
              "      display: none;\n",
              "      fill: #1967D2;\n",
              "      height: 32px;\n",
              "      padding: 0 0 0 0;\n",
              "      width: 32px;\n",
              "    }\n",
              "\n",
              "    .colab-df-convert:hover {\n",
              "      background-color: #E2EBFA;\n",
              "      box-shadow: 0px 1px 2px rgba(60, 64, 67, 0.3), 0px 1px 3px 1px rgba(60, 64, 67, 0.15);\n",
              "      fill: #174EA6;\n",
              "    }\n",
              "\n",
              "    [theme=dark] .colab-df-convert {\n",
              "      background-color: #3B4455;\n",
              "      fill: #D2E3FC;\n",
              "    }\n",
              "\n",
              "    [theme=dark] .colab-df-convert:hover {\n",
              "      background-color: #434B5C;\n",
              "      box-shadow: 0px 1px 3px 1px rgba(0, 0, 0, 0.15);\n",
              "      filter: drop-shadow(0px 1px 2px rgba(0, 0, 0, 0.3));\n",
              "      fill: #FFFFFF;\n",
              "    }\n",
              "  </style>\n",
              "\n",
              "      <script>\n",
              "        const buttonEl =\n",
              "          document.querySelector('#df-1ea85a8a-009f-4d4d-a254-4d0c7edbbdc8 button.colab-df-convert');\n",
              "        buttonEl.style.display =\n",
              "          google.colab.kernel.accessAllowed ? 'block' : 'none';\n",
              "\n",
              "        async function convertToInteractive(key) {\n",
              "          const element = document.querySelector('#df-1ea85a8a-009f-4d4d-a254-4d0c7edbbdc8');\n",
              "          const dataTable =\n",
              "            await google.colab.kernel.invokeFunction('convertToInteractive',\n",
              "                                                     [key], {});\n",
              "          if (!dataTable) return;\n",
              "\n",
              "          const docLinkHtml = 'Like what you see? Visit the ' +\n",
              "            '<a target=\"_blank\" href=https://colab.research.google.com/notebooks/data_table.ipynb>data table notebook</a>'\n",
              "            + ' to learn more about interactive tables.';\n",
              "          element.innerHTML = '';\n",
              "          dataTable['output_type'] = 'display_data';\n",
              "          await google.colab.output.renderOutput(dataTable, element);\n",
              "          const docLink = document.createElement('div');\n",
              "          docLink.innerHTML = docLinkHtml;\n",
              "          element.appendChild(docLink);\n",
              "        }\n",
              "      </script>\n",
              "    </div>\n",
              "  </div>\n",
              "  "
            ]
          },
          "metadata": {},
          "execution_count": 136
        }
      ]
    },
    {
      "cell_type": "code",
      "source": [
        "y_test_pred=pipeline.predict(X_p_test)\n",
        "print(\"PREDICTION:\",y_test_pred)"
      ],
      "metadata": {
        "id": "qSAXHv0bytAR"
      },
      "id": "qSAXHv0bytAR",
      "execution_count": null,
      "outputs": []
    },
    {
      "cell_type": "code",
      "source": [
        "data=['The world is filled with pain, but only a few can agree to this because not too many truly live in this world. The rest live in their imagination.We all express our pain in different ways. I chose to write mine down and allow you to read them. I feel so much pain, and I cant explain the regret I feel.']\n",
        "X_p_test1=pd.DataFrame(data,columns=['text'])\n",
        "X_p_test1"
      ],
      "metadata": {
        "colab": {
          "base_uri": "https://localhost:8080/",
          "height": 146
        },
        "id": "kipyGldzxtDx",
        "outputId": "d5be08c4-d94e-43ac-eac6-056481e2166b"
      },
      "id": "kipyGldzxtDx",
      "execution_count": 138,
      "outputs": [
        {
          "output_type": "execute_result",
          "data": {
            "text/plain": [
              "                                                text\n",
              "0  The world is filled with pain, but only a few ..."
            ],
            "text/html": [
              "\n",
              "  <div id=\"df-525a0835-d499-493f-aa58-43613cb2c628\">\n",
              "    <div class=\"colab-df-container\">\n",
              "      <div>\n",
              "<style scoped>\n",
              "    .dataframe tbody tr th:only-of-type {\n",
              "        vertical-align: middle;\n",
              "    }\n",
              "\n",
              "    .dataframe tbody tr th {\n",
              "        vertical-align: top;\n",
              "    }\n",
              "\n",
              "    .dataframe thead th {\n",
              "        text-align: right;\n",
              "    }\n",
              "</style>\n",
              "<table border=\"1\" class=\"dataframe\">\n",
              "  <thead>\n",
              "    <tr style=\"text-align: right;\">\n",
              "      <th></th>\n",
              "      <th>text</th>\n",
              "    </tr>\n",
              "  </thead>\n",
              "  <tbody>\n",
              "    <tr>\n",
              "      <th>0</th>\n",
              "      <td>The world is filled with pain, but only a few ...</td>\n",
              "    </tr>\n",
              "  </tbody>\n",
              "</table>\n",
              "</div>\n",
              "      <button class=\"colab-df-convert\" onclick=\"convertToInteractive('df-525a0835-d499-493f-aa58-43613cb2c628')\"\n",
              "              title=\"Convert this dataframe to an interactive table.\"\n",
              "              style=\"display:none;\">\n",
              "        \n",
              "  <svg xmlns=\"http://www.w3.org/2000/svg\" height=\"24px\"viewBox=\"0 0 24 24\"\n",
              "       width=\"24px\">\n",
              "    <path d=\"M0 0h24v24H0V0z\" fill=\"none\"/>\n",
              "    <path d=\"M18.56 5.44l.94 2.06.94-2.06 2.06-.94-2.06-.94-.94-2.06-.94 2.06-2.06.94zm-11 1L8.5 8.5l.94-2.06 2.06-.94-2.06-.94L8.5 2.5l-.94 2.06-2.06.94zm10 10l.94 2.06.94-2.06 2.06-.94-2.06-.94-.94-2.06-.94 2.06-2.06.94z\"/><path d=\"M17.41 7.96l-1.37-1.37c-.4-.4-.92-.59-1.43-.59-.52 0-1.04.2-1.43.59L10.3 9.45l-7.72 7.72c-.78.78-.78 2.05 0 2.83L4 21.41c.39.39.9.59 1.41.59.51 0 1.02-.2 1.41-.59l7.78-7.78 2.81-2.81c.8-.78.8-2.07 0-2.86zM5.41 20L4 18.59l7.72-7.72 1.47 1.35L5.41 20z\"/>\n",
              "  </svg>\n",
              "      </button>\n",
              "      \n",
              "  <style>\n",
              "    .colab-df-container {\n",
              "      display:flex;\n",
              "      flex-wrap:wrap;\n",
              "      gap: 12px;\n",
              "    }\n",
              "\n",
              "    .colab-df-convert {\n",
              "      background-color: #E8F0FE;\n",
              "      border: none;\n",
              "      border-radius: 50%;\n",
              "      cursor: pointer;\n",
              "      display: none;\n",
              "      fill: #1967D2;\n",
              "      height: 32px;\n",
              "      padding: 0 0 0 0;\n",
              "      width: 32px;\n",
              "    }\n",
              "\n",
              "    .colab-df-convert:hover {\n",
              "      background-color: #E2EBFA;\n",
              "      box-shadow: 0px 1px 2px rgba(60, 64, 67, 0.3), 0px 1px 3px 1px rgba(60, 64, 67, 0.15);\n",
              "      fill: #174EA6;\n",
              "    }\n",
              "\n",
              "    [theme=dark] .colab-df-convert {\n",
              "      background-color: #3B4455;\n",
              "      fill: #D2E3FC;\n",
              "    }\n",
              "\n",
              "    [theme=dark] .colab-df-convert:hover {\n",
              "      background-color: #434B5C;\n",
              "      box-shadow: 0px 1px 3px 1px rgba(0, 0, 0, 0.15);\n",
              "      filter: drop-shadow(0px 1px 2px rgba(0, 0, 0, 0.3));\n",
              "      fill: #FFFFFF;\n",
              "    }\n",
              "  </style>\n",
              "\n",
              "      <script>\n",
              "        const buttonEl =\n",
              "          document.querySelector('#df-525a0835-d499-493f-aa58-43613cb2c628 button.colab-df-convert');\n",
              "        buttonEl.style.display =\n",
              "          google.colab.kernel.accessAllowed ? 'block' : 'none';\n",
              "\n",
              "        async function convertToInteractive(key) {\n",
              "          const element = document.querySelector('#df-525a0835-d499-493f-aa58-43613cb2c628');\n",
              "          const dataTable =\n",
              "            await google.colab.kernel.invokeFunction('convertToInteractive',\n",
              "                                                     [key], {});\n",
              "          if (!dataTable) return;\n",
              "\n",
              "          const docLinkHtml = 'Like what you see? Visit the ' +\n",
              "            '<a target=\"_blank\" href=https://colab.research.google.com/notebooks/data_table.ipynb>data table notebook</a>'\n",
              "            + ' to learn more about interactive tables.';\n",
              "          element.innerHTML = '';\n",
              "          dataTable['output_type'] = 'display_data';\n",
              "          await google.colab.output.renderOutput(dataTable, element);\n",
              "          const docLink = document.createElement('div');\n",
              "          docLink.innerHTML = docLinkHtml;\n",
              "          element.appendChild(docLink);\n",
              "        }\n",
              "      </script>\n",
              "    </div>\n",
              "  </div>\n",
              "  "
            ]
          },
          "metadata": {},
          "execution_count": 138
        }
      ]
    },
    {
      "cell_type": "code",
      "source": [
        "y_test_pred1=pipeline.predict(X_p_test)\n",
        "print(\"PREDICTION:\",y_test_pred1)"
      ],
      "metadata": {
        "colab": {
          "base_uri": "https://localhost:8080/"
        },
        "id": "dA4cs43Dx92I",
        "outputId": "1d60305f-0e19-4e07-d100-339d5ae3bab4"
      },
      "id": "dA4cs43Dx92I",
      "execution_count": 141,
      "outputs": [
        {
          "output_type": "stream",
          "name": "stdout",
          "text": [
            "PREDICTION: ['not depressed']\n"
          ]
        }
      ]
    }
  ],
  "metadata": {
    "kernelspec": {
      "display_name": "Python 3",
      "language": "python",
      "name": "python3"
    },
    "language_info": {
      "codemirror_mode": {
        "name": "ipython",
        "version": 3
      },
      "file_extension": ".py",
      "mimetype": "text/x-python",
      "name": "python",
      "nbconvert_exporter": "python",
      "pygments_lexer": "ipython3",
      "version": "3.7.10"
    },
    "papermill": {
      "default_parameters": {},
      "duration": 1327.453843,
      "end_time": "2021-11-13T16:52:01.778085",
      "environment_variables": {},
      "exception": null,
      "input_path": "__notebook__.ipynb",
      "output_path": "__notebook__.ipynb",
      "parameters": {},
      "start_time": "2021-11-13T16:29:54.324242",
      "version": "2.3.3"
    },
    "colab": {
      "name": "SWE1017 Detecting Signs of Depression from Social Media Text",
      "provenance": [],
      "collapsed_sections": []
    }
  },
  "nbformat": 4,
  "nbformat_minor": 5
}